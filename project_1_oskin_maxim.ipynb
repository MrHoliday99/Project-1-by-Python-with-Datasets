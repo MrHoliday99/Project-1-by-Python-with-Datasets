{
  "nbformat": 4,
  "nbformat_minor": 0,
  "metadata": {
    "colab": {
      "provenance": []
    },
    "kernelspec": {
      "name": "python3",
      "display_name": "Python 3"
    },
    "language_info": {
      "name": "python"
    }
  },
  "cells": [
    {
      "cell_type": "markdown",
      "source": [
        "# Проект 1. Оськин Максим Сергеевич. Группа БГЕО 232"
      ],
      "metadata": {
        "id": "_JtK75hMq49J"
      }
    },
    {
      "cell_type": "markdown",
      "source": [
        "Так как были проблемы с работой в jupiter, буду делать через Google Colab, дополнительно применяя бибилотеку pandas, так как до этого раньше на ней писал и было очень удобно"
      ],
      "metadata": {
        "id": "ODKPsCRksRHS"
      }
    },
    {
      "cell_type": "markdown",
      "source": [
        "Тогда сначала подключим библиотеку для более удобной работы:"
      ],
      "metadata": {
        "id": "-OeVsX59qz8w"
      }
    },
    {
      "cell_type": "code",
      "execution_count": 1,
      "metadata": {
        "id": "jdTStM6pqNx1"
      },
      "outputs": [],
      "source": [
        "import pandas as pd"
      ]
    },
    {
      "cell_type": "markdown",
      "source": [
        "Буду работать с датасетами электромобилей. Для этого скачал заранее датасет, загрузил его на Dropbox, после чего по полученной ссылке буду его скачивать:"
      ],
      "metadata": {
        "id": "tmQV3gHLrZVv"
      }
    },
    {
      "cell_type": "code",
      "source": [
        "!wget  -O 'cars.csv' -q 'https://www.dropbox.com/scl/fi/gylr81ygwry4t02cjcvaw/Electric_Vehicle_Population_Data.csv?rlkey=iob653l7e7wuz21c8bthl0j0u&st=574sv72s&dl=0'"
      ],
      "metadata": {
        "id": "jl4PNSpQryIy"
      },
      "execution_count": 2,
      "outputs": []
    },
    {
      "cell_type": "markdown",
      "source": [
        "Когда cars.csv уже в хранилище есть, буду его как бы конвертировать в переменную для более удобной работы:"
      ],
      "metadata": {
        "id": "-L5HpqXOscmC"
      }
    },
    {
      "cell_type": "code",
      "source": [
        "cars = pd.read_csv('cars.csv')"
      ],
      "metadata": {
        "id": "OWLXJB01soac"
      },
      "execution_count": 3,
      "outputs": []
    },
    {
      "cell_type": "markdown",
      "source": [
        "Проверим, что cars у нас уже не пустой:"
      ],
      "metadata": {
        "id": "o0oYVYYCs3xv"
      }
    },
    {
      "cell_type": "code",
      "source": [
        "print('Экземпляров в cars = ', len(cars))"
      ],
      "metadata": {
        "colab": {
          "base_uri": "https://localhost:8080/"
        },
        "id": "pHNLcaIGtAbi",
        "outputId": "ecf35ff7-ff50-4122-bab5-2ded01178c98"
      },
      "execution_count": 5,
      "outputs": [
        {
          "output_type": "stream",
          "name": "stdout",
          "text": [
            "Экземпляров в cars =  205439\n"
          ]
        }
      ]
    },
    {
      "cell_type": "markdown",
      "source": [
        "Посмотрим частично на сам датасет:"
      ],
      "metadata": {
        "id": "VYgXemMTtL4C"
      }
    },
    {
      "cell_type": "code",
      "source": [
        "cars"
      ],
      "metadata": {
        "colab": {
          "base_uri": "https://localhost:8080/",
          "height": 1000
        },
        "id": "GVK6JQR7tViG",
        "outputId": "698ee0ea-8000-4f7e-df5b-217f5e793ea4"
      },
      "execution_count": 6,
      "outputs": [
        {
          "output_type": "execute_result",
          "data": {
            "text/plain": [
              "        VIN (1-10)     County       City State  Postal Code  Model Year  \\\n",
              "0       JTMAB3FV3P     Kitsap    Seabeck    WA      98380.0        2023   \n",
              "1       1N4AZ1CP6J     Kitsap  Bremerton    WA      98312.0        2018   \n",
              "2       5YJ3E1EA4L       King    Seattle    WA      98101.0        2020   \n",
              "3       1N4AZ0CP8E       King    Seattle    WA      98125.0        2014   \n",
              "4       1G1FX6S00H   Thurston       Yelm    WA      98597.0        2017   \n",
              "...            ...        ...        ...   ...          ...         ...   \n",
              "205434  1N4BZ1CV2N     Chelan  Peshastin    WA      98847.0        2022   \n",
              "205435  1FTVW1EV0P  Snohomish    Everett    WA      98208.0        2023   \n",
              "205436  5YJXCDE22H    Spokane     Cheney    WA      99004.0        2017   \n",
              "205437  5YJ3E1EA3J       King     Vashon    WA      98070.0        2018   \n",
              "205438  7SAYGDEE7P    Spokane    Spokane    WA      99208.0        2023   \n",
              "\n",
              "             Make       Model                   Electric Vehicle Type  \\\n",
              "0          TOYOTA  RAV4 PRIME  Plug-in Hybrid Electric Vehicle (PHEV)   \n",
              "1          NISSAN        LEAF          Battery Electric Vehicle (BEV)   \n",
              "2           TESLA     MODEL 3          Battery Electric Vehicle (BEV)   \n",
              "3          NISSAN        LEAF          Battery Electric Vehicle (BEV)   \n",
              "4       CHEVROLET     BOLT EV          Battery Electric Vehicle (BEV)   \n",
              "...           ...         ...                                     ...   \n",
              "205434     NISSAN        LEAF          Battery Electric Vehicle (BEV)   \n",
              "205435       FORD       F-150          Battery Electric Vehicle (BEV)   \n",
              "205436      TESLA     MODEL X          Battery Electric Vehicle (BEV)   \n",
              "205437      TESLA     MODEL 3          Battery Electric Vehicle (BEV)   \n",
              "205438      TESLA     MODEL Y          Battery Electric Vehicle (BEV)   \n",
              "\n",
              "        Clean Alternative Fuel Vehicle (CAFV) Eligibility  Electric Range  \\\n",
              "0                 Clean Alternative Fuel Vehicle Eligible            42.0   \n",
              "1                 Clean Alternative Fuel Vehicle Eligible           151.0   \n",
              "2                 Clean Alternative Fuel Vehicle Eligible           266.0   \n",
              "3                 Clean Alternative Fuel Vehicle Eligible            84.0   \n",
              "4                 Clean Alternative Fuel Vehicle Eligible           238.0   \n",
              "...                                                   ...             ...   \n",
              "205434  Eligibility unknown as battery range has not b...             0.0   \n",
              "205435  Eligibility unknown as battery range has not b...             0.0   \n",
              "205436            Clean Alternative Fuel Vehicle Eligible           200.0   \n",
              "205437            Clean Alternative Fuel Vehicle Eligible           215.0   \n",
              "205438  Eligibility unknown as battery range has not b...             0.0   \n",
              "\n",
              "        Base MSRP  Legislative District  DOL Vehicle ID  \\\n",
              "0             0.0                  35.0       240684006   \n",
              "1             0.0                  35.0       474183811   \n",
              "2             0.0                  43.0       113120017   \n",
              "3             0.0                  46.0       108188713   \n",
              "4             0.0                  20.0       176448940   \n",
              "...           ...                   ...             ...   \n",
              "205434        0.0                  12.0       187384494   \n",
              "205435        0.0                  44.0       255036386   \n",
              "205436        0.0                   6.0       221631588   \n",
              "205437        0.0                  34.0       336983496   \n",
              "205438        0.0                   6.0       228335040   \n",
              "\n",
              "                       Vehicle Location  \\\n",
              "0       POINT (-122.8728334 47.5798304)   \n",
              "1       POINT (-122.6961203 47.5759584)   \n",
              "2       POINT (-122.3340795 47.6099315)   \n",
              "3         POINT (-122.304356 47.715668)   \n",
              "4       POINT (-122.5715761 46.9095798)   \n",
              "...                                 ...   \n",
              "205434  POINT (-120.6051696 47.5510173)   \n",
              "205435  POINT (-122.2032349 47.8956271)   \n",
              "205436  POINT (-117.5836098 47.4951312)   \n",
              "205437    POINT (-122.466938 47.429244)   \n",
              "205438  POINT (-117.4268937 47.7323627)   \n",
              "\n",
              "                                         Electric Utility  2020 Census Tract  \n",
              "0                                  PUGET SOUND ENERGY INC       5.303509e+10  \n",
              "1                                  PUGET SOUND ENERGY INC       5.303508e+10  \n",
              "2            CITY OF SEATTLE - (WA)|CITY OF TACOMA - (WA)       5.303301e+10  \n",
              "3            CITY OF SEATTLE - (WA)|CITY OF TACOMA - (WA)       5.303300e+10  \n",
              "4                                  PUGET SOUND ENERGY INC       5.306701e+10  \n",
              "...                                                   ...                ...  \n",
              "205434                          PUD NO 1 OF CHELAN COUNTY       5.300796e+10  \n",
              "205435                             PUGET SOUND ENERGY INC       5.306104e+10  \n",
              "205436  BONNEVILLE POWER ADMINISTRATION||AVISTA CORP||...       5.306301e+10  \n",
              "205437      PUGET SOUND ENERGY INC||CITY OF TACOMA - (WA)       5.303303e+10  \n",
              "205438  BONNEVILLE POWER ADMINISTRATION||AVISTA CORP||...       5.306301e+10  \n",
              "\n",
              "[205439 rows x 17 columns]"
            ],
            "text/html": [
              "\n",
              "  <div id=\"df-83259e61-b258-4c84-adf9-194b306599fd\" class=\"colab-df-container\">\n",
              "    <div>\n",
              "<style scoped>\n",
              "    .dataframe tbody tr th:only-of-type {\n",
              "        vertical-align: middle;\n",
              "    }\n",
              "\n",
              "    .dataframe tbody tr th {\n",
              "        vertical-align: top;\n",
              "    }\n",
              "\n",
              "    .dataframe thead th {\n",
              "        text-align: right;\n",
              "    }\n",
              "</style>\n",
              "<table border=\"1\" class=\"dataframe\">\n",
              "  <thead>\n",
              "    <tr style=\"text-align: right;\">\n",
              "      <th></th>\n",
              "      <th>VIN (1-10)</th>\n",
              "      <th>County</th>\n",
              "      <th>City</th>\n",
              "      <th>State</th>\n",
              "      <th>Postal Code</th>\n",
              "      <th>Model Year</th>\n",
              "      <th>Make</th>\n",
              "      <th>Model</th>\n",
              "      <th>Electric Vehicle Type</th>\n",
              "      <th>Clean Alternative Fuel Vehicle (CAFV) Eligibility</th>\n",
              "      <th>Electric Range</th>\n",
              "      <th>Base MSRP</th>\n",
              "      <th>Legislative District</th>\n",
              "      <th>DOL Vehicle ID</th>\n",
              "      <th>Vehicle Location</th>\n",
              "      <th>Electric Utility</th>\n",
              "      <th>2020 Census Tract</th>\n",
              "    </tr>\n",
              "  </thead>\n",
              "  <tbody>\n",
              "    <tr>\n",
              "      <th>0</th>\n",
              "      <td>JTMAB3FV3P</td>\n",
              "      <td>Kitsap</td>\n",
              "      <td>Seabeck</td>\n",
              "      <td>WA</td>\n",
              "      <td>98380.0</td>\n",
              "      <td>2023</td>\n",
              "      <td>TOYOTA</td>\n",
              "      <td>RAV4 PRIME</td>\n",
              "      <td>Plug-in Hybrid Electric Vehicle (PHEV)</td>\n",
              "      <td>Clean Alternative Fuel Vehicle Eligible</td>\n",
              "      <td>42.0</td>\n",
              "      <td>0.0</td>\n",
              "      <td>35.0</td>\n",
              "      <td>240684006</td>\n",
              "      <td>POINT (-122.8728334 47.5798304)</td>\n",
              "      <td>PUGET SOUND ENERGY INC</td>\n",
              "      <td>5.303509e+10</td>\n",
              "    </tr>\n",
              "    <tr>\n",
              "      <th>1</th>\n",
              "      <td>1N4AZ1CP6J</td>\n",
              "      <td>Kitsap</td>\n",
              "      <td>Bremerton</td>\n",
              "      <td>WA</td>\n",
              "      <td>98312.0</td>\n",
              "      <td>2018</td>\n",
              "      <td>NISSAN</td>\n",
              "      <td>LEAF</td>\n",
              "      <td>Battery Electric Vehicle (BEV)</td>\n",
              "      <td>Clean Alternative Fuel Vehicle Eligible</td>\n",
              "      <td>151.0</td>\n",
              "      <td>0.0</td>\n",
              "      <td>35.0</td>\n",
              "      <td>474183811</td>\n",
              "      <td>POINT (-122.6961203 47.5759584)</td>\n",
              "      <td>PUGET SOUND ENERGY INC</td>\n",
              "      <td>5.303508e+10</td>\n",
              "    </tr>\n",
              "    <tr>\n",
              "      <th>2</th>\n",
              "      <td>5YJ3E1EA4L</td>\n",
              "      <td>King</td>\n",
              "      <td>Seattle</td>\n",
              "      <td>WA</td>\n",
              "      <td>98101.0</td>\n",
              "      <td>2020</td>\n",
              "      <td>TESLA</td>\n",
              "      <td>MODEL 3</td>\n",
              "      <td>Battery Electric Vehicle (BEV)</td>\n",
              "      <td>Clean Alternative Fuel Vehicle Eligible</td>\n",
              "      <td>266.0</td>\n",
              "      <td>0.0</td>\n",
              "      <td>43.0</td>\n",
              "      <td>113120017</td>\n",
              "      <td>POINT (-122.3340795 47.6099315)</td>\n",
              "      <td>CITY OF SEATTLE - (WA)|CITY OF TACOMA - (WA)</td>\n",
              "      <td>5.303301e+10</td>\n",
              "    </tr>\n",
              "    <tr>\n",
              "      <th>3</th>\n",
              "      <td>1N4AZ0CP8E</td>\n",
              "      <td>King</td>\n",
              "      <td>Seattle</td>\n",
              "      <td>WA</td>\n",
              "      <td>98125.0</td>\n",
              "      <td>2014</td>\n",
              "      <td>NISSAN</td>\n",
              "      <td>LEAF</td>\n",
              "      <td>Battery Electric Vehicle (BEV)</td>\n",
              "      <td>Clean Alternative Fuel Vehicle Eligible</td>\n",
              "      <td>84.0</td>\n",
              "      <td>0.0</td>\n",
              "      <td>46.0</td>\n",
              "      <td>108188713</td>\n",
              "      <td>POINT (-122.304356 47.715668)</td>\n",
              "      <td>CITY OF SEATTLE - (WA)|CITY OF TACOMA - (WA)</td>\n",
              "      <td>5.303300e+10</td>\n",
              "    </tr>\n",
              "    <tr>\n",
              "      <th>4</th>\n",
              "      <td>1G1FX6S00H</td>\n",
              "      <td>Thurston</td>\n",
              "      <td>Yelm</td>\n",
              "      <td>WA</td>\n",
              "      <td>98597.0</td>\n",
              "      <td>2017</td>\n",
              "      <td>CHEVROLET</td>\n",
              "      <td>BOLT EV</td>\n",
              "      <td>Battery Electric Vehicle (BEV)</td>\n",
              "      <td>Clean Alternative Fuel Vehicle Eligible</td>\n",
              "      <td>238.0</td>\n",
              "      <td>0.0</td>\n",
              "      <td>20.0</td>\n",
              "      <td>176448940</td>\n",
              "      <td>POINT (-122.5715761 46.9095798)</td>\n",
              "      <td>PUGET SOUND ENERGY INC</td>\n",
              "      <td>5.306701e+10</td>\n",
              "    </tr>\n",
              "    <tr>\n",
              "      <th>...</th>\n",
              "      <td>...</td>\n",
              "      <td>...</td>\n",
              "      <td>...</td>\n",
              "      <td>...</td>\n",
              "      <td>...</td>\n",
              "      <td>...</td>\n",
              "      <td>...</td>\n",
              "      <td>...</td>\n",
              "      <td>...</td>\n",
              "      <td>...</td>\n",
              "      <td>...</td>\n",
              "      <td>...</td>\n",
              "      <td>...</td>\n",
              "      <td>...</td>\n",
              "      <td>...</td>\n",
              "      <td>...</td>\n",
              "      <td>...</td>\n",
              "    </tr>\n",
              "    <tr>\n",
              "      <th>205434</th>\n",
              "      <td>1N4BZ1CV2N</td>\n",
              "      <td>Chelan</td>\n",
              "      <td>Peshastin</td>\n",
              "      <td>WA</td>\n",
              "      <td>98847.0</td>\n",
              "      <td>2022</td>\n",
              "      <td>NISSAN</td>\n",
              "      <td>LEAF</td>\n",
              "      <td>Battery Electric Vehicle (BEV)</td>\n",
              "      <td>Eligibility unknown as battery range has not b...</td>\n",
              "      <td>0.0</td>\n",
              "      <td>0.0</td>\n",
              "      <td>12.0</td>\n",
              "      <td>187384494</td>\n",
              "      <td>POINT (-120.6051696 47.5510173)</td>\n",
              "      <td>PUD NO 1 OF CHELAN COUNTY</td>\n",
              "      <td>5.300796e+10</td>\n",
              "    </tr>\n",
              "    <tr>\n",
              "      <th>205435</th>\n",
              "      <td>1FTVW1EV0P</td>\n",
              "      <td>Snohomish</td>\n",
              "      <td>Everett</td>\n",
              "      <td>WA</td>\n",
              "      <td>98208.0</td>\n",
              "      <td>2023</td>\n",
              "      <td>FORD</td>\n",
              "      <td>F-150</td>\n",
              "      <td>Battery Electric Vehicle (BEV)</td>\n",
              "      <td>Eligibility unknown as battery range has not b...</td>\n",
              "      <td>0.0</td>\n",
              "      <td>0.0</td>\n",
              "      <td>44.0</td>\n",
              "      <td>255036386</td>\n",
              "      <td>POINT (-122.2032349 47.8956271)</td>\n",
              "      <td>PUGET SOUND ENERGY INC</td>\n",
              "      <td>5.306104e+10</td>\n",
              "    </tr>\n",
              "    <tr>\n",
              "      <th>205436</th>\n",
              "      <td>5YJXCDE22H</td>\n",
              "      <td>Spokane</td>\n",
              "      <td>Cheney</td>\n",
              "      <td>WA</td>\n",
              "      <td>99004.0</td>\n",
              "      <td>2017</td>\n",
              "      <td>TESLA</td>\n",
              "      <td>MODEL X</td>\n",
              "      <td>Battery Electric Vehicle (BEV)</td>\n",
              "      <td>Clean Alternative Fuel Vehicle Eligible</td>\n",
              "      <td>200.0</td>\n",
              "      <td>0.0</td>\n",
              "      <td>6.0</td>\n",
              "      <td>221631588</td>\n",
              "      <td>POINT (-117.5836098 47.4951312)</td>\n",
              "      <td>BONNEVILLE POWER ADMINISTRATION||AVISTA CORP||...</td>\n",
              "      <td>5.306301e+10</td>\n",
              "    </tr>\n",
              "    <tr>\n",
              "      <th>205437</th>\n",
              "      <td>5YJ3E1EA3J</td>\n",
              "      <td>King</td>\n",
              "      <td>Vashon</td>\n",
              "      <td>WA</td>\n",
              "      <td>98070.0</td>\n",
              "      <td>2018</td>\n",
              "      <td>TESLA</td>\n",
              "      <td>MODEL 3</td>\n",
              "      <td>Battery Electric Vehicle (BEV)</td>\n",
              "      <td>Clean Alternative Fuel Vehicle Eligible</td>\n",
              "      <td>215.0</td>\n",
              "      <td>0.0</td>\n",
              "      <td>34.0</td>\n",
              "      <td>336983496</td>\n",
              "      <td>POINT (-122.466938 47.429244)</td>\n",
              "      <td>PUGET SOUND ENERGY INC||CITY OF TACOMA - (WA)</td>\n",
              "      <td>5.303303e+10</td>\n",
              "    </tr>\n",
              "    <tr>\n",
              "      <th>205438</th>\n",
              "      <td>7SAYGDEE7P</td>\n",
              "      <td>Spokane</td>\n",
              "      <td>Spokane</td>\n",
              "      <td>WA</td>\n",
              "      <td>99208.0</td>\n",
              "      <td>2023</td>\n",
              "      <td>TESLA</td>\n",
              "      <td>MODEL Y</td>\n",
              "      <td>Battery Electric Vehicle (BEV)</td>\n",
              "      <td>Eligibility unknown as battery range has not b...</td>\n",
              "      <td>0.0</td>\n",
              "      <td>0.0</td>\n",
              "      <td>6.0</td>\n",
              "      <td>228335040</td>\n",
              "      <td>POINT (-117.4268937 47.7323627)</td>\n",
              "      <td>BONNEVILLE POWER ADMINISTRATION||AVISTA CORP||...</td>\n",
              "      <td>5.306301e+10</td>\n",
              "    </tr>\n",
              "  </tbody>\n",
              "</table>\n",
              "<p>205439 rows × 17 columns</p>\n",
              "</div>\n",
              "    <div class=\"colab-df-buttons\">\n",
              "\n",
              "  <div class=\"colab-df-container\">\n",
              "    <button class=\"colab-df-convert\" onclick=\"convertToInteractive('df-83259e61-b258-4c84-adf9-194b306599fd')\"\n",
              "            title=\"Convert this dataframe to an interactive table.\"\n",
              "            style=\"display:none;\">\n",
              "\n",
              "  <svg xmlns=\"http://www.w3.org/2000/svg\" height=\"24px\" viewBox=\"0 -960 960 960\">\n",
              "    <path d=\"M120-120v-720h720v720H120Zm60-500h600v-160H180v160Zm220 220h160v-160H400v160Zm0 220h160v-160H400v160ZM180-400h160v-160H180v160Zm440 0h160v-160H620v160ZM180-180h160v-160H180v160Zm440 0h160v-160H620v160Z\"/>\n",
              "  </svg>\n",
              "    </button>\n",
              "\n",
              "  <style>\n",
              "    .colab-df-container {\n",
              "      display:flex;\n",
              "      gap: 12px;\n",
              "    }\n",
              "\n",
              "    .colab-df-convert {\n",
              "      background-color: #E8F0FE;\n",
              "      border: none;\n",
              "      border-radius: 50%;\n",
              "      cursor: pointer;\n",
              "      display: none;\n",
              "      fill: #1967D2;\n",
              "      height: 32px;\n",
              "      padding: 0 0 0 0;\n",
              "      width: 32px;\n",
              "    }\n",
              "\n",
              "    .colab-df-convert:hover {\n",
              "      background-color: #E2EBFA;\n",
              "      box-shadow: 0px 1px 2px rgba(60, 64, 67, 0.3), 0px 1px 3px 1px rgba(60, 64, 67, 0.15);\n",
              "      fill: #174EA6;\n",
              "    }\n",
              "\n",
              "    .colab-df-buttons div {\n",
              "      margin-bottom: 4px;\n",
              "    }\n",
              "\n",
              "    [theme=dark] .colab-df-convert {\n",
              "      background-color: #3B4455;\n",
              "      fill: #D2E3FC;\n",
              "    }\n",
              "\n",
              "    [theme=dark] .colab-df-convert:hover {\n",
              "      background-color: #434B5C;\n",
              "      box-shadow: 0px 1px 3px 1px rgba(0, 0, 0, 0.15);\n",
              "      filter: drop-shadow(0px 1px 2px rgba(0, 0, 0, 0.3));\n",
              "      fill: #FFFFFF;\n",
              "    }\n",
              "  </style>\n",
              "\n",
              "    <script>\n",
              "      const buttonEl =\n",
              "        document.querySelector('#df-83259e61-b258-4c84-adf9-194b306599fd button.colab-df-convert');\n",
              "      buttonEl.style.display =\n",
              "        google.colab.kernel.accessAllowed ? 'block' : 'none';\n",
              "\n",
              "      async function convertToInteractive(key) {\n",
              "        const element = document.querySelector('#df-83259e61-b258-4c84-adf9-194b306599fd');\n",
              "        const dataTable =\n",
              "          await google.colab.kernel.invokeFunction('convertToInteractive',\n",
              "                                                    [key], {});\n",
              "        if (!dataTable) return;\n",
              "\n",
              "        const docLinkHtml = 'Like what you see? Visit the ' +\n",
              "          '<a target=\"_blank\" href=https://colab.research.google.com/notebooks/data_table.ipynb>data table notebook</a>'\n",
              "          + ' to learn more about interactive tables.';\n",
              "        element.innerHTML = '';\n",
              "        dataTable['output_type'] = 'display_data';\n",
              "        await google.colab.output.renderOutput(dataTable, element);\n",
              "        const docLink = document.createElement('div');\n",
              "        docLink.innerHTML = docLinkHtml;\n",
              "        element.appendChild(docLink);\n",
              "      }\n",
              "    </script>\n",
              "  </div>\n",
              "\n",
              "\n",
              "<div id=\"df-47597eb3-a7a5-45fd-8e1f-10eeff267acc\">\n",
              "  <button class=\"colab-df-quickchart\" onclick=\"quickchart('df-47597eb3-a7a5-45fd-8e1f-10eeff267acc')\"\n",
              "            title=\"Suggest charts\"\n",
              "            style=\"display:none;\">\n",
              "\n",
              "<svg xmlns=\"http://www.w3.org/2000/svg\" height=\"24px\"viewBox=\"0 0 24 24\"\n",
              "     width=\"24px\">\n",
              "    <g>\n",
              "        <path d=\"M19 3H5c-1.1 0-2 .9-2 2v14c0 1.1.9 2 2 2h14c1.1 0 2-.9 2-2V5c0-1.1-.9-2-2-2zM9 17H7v-7h2v7zm4 0h-2V7h2v10zm4 0h-2v-4h2v4z\"/>\n",
              "    </g>\n",
              "</svg>\n",
              "  </button>\n",
              "\n",
              "<style>\n",
              "  .colab-df-quickchart {\n",
              "      --bg-color: #E8F0FE;\n",
              "      --fill-color: #1967D2;\n",
              "      --hover-bg-color: #E2EBFA;\n",
              "      --hover-fill-color: #174EA6;\n",
              "      --disabled-fill-color: #AAA;\n",
              "      --disabled-bg-color: #DDD;\n",
              "  }\n",
              "\n",
              "  [theme=dark] .colab-df-quickchart {\n",
              "      --bg-color: #3B4455;\n",
              "      --fill-color: #D2E3FC;\n",
              "      --hover-bg-color: #434B5C;\n",
              "      --hover-fill-color: #FFFFFF;\n",
              "      --disabled-bg-color: #3B4455;\n",
              "      --disabled-fill-color: #666;\n",
              "  }\n",
              "\n",
              "  .colab-df-quickchart {\n",
              "    background-color: var(--bg-color);\n",
              "    border: none;\n",
              "    border-radius: 50%;\n",
              "    cursor: pointer;\n",
              "    display: none;\n",
              "    fill: var(--fill-color);\n",
              "    height: 32px;\n",
              "    padding: 0;\n",
              "    width: 32px;\n",
              "  }\n",
              "\n",
              "  .colab-df-quickchart:hover {\n",
              "    background-color: var(--hover-bg-color);\n",
              "    box-shadow: 0 1px 2px rgba(60, 64, 67, 0.3), 0 1px 3px 1px rgba(60, 64, 67, 0.15);\n",
              "    fill: var(--button-hover-fill-color);\n",
              "  }\n",
              "\n",
              "  .colab-df-quickchart-complete:disabled,\n",
              "  .colab-df-quickchart-complete:disabled:hover {\n",
              "    background-color: var(--disabled-bg-color);\n",
              "    fill: var(--disabled-fill-color);\n",
              "    box-shadow: none;\n",
              "  }\n",
              "\n",
              "  .colab-df-spinner {\n",
              "    border: 2px solid var(--fill-color);\n",
              "    border-color: transparent;\n",
              "    border-bottom-color: var(--fill-color);\n",
              "    animation:\n",
              "      spin 1s steps(1) infinite;\n",
              "  }\n",
              "\n",
              "  @keyframes spin {\n",
              "    0% {\n",
              "      border-color: transparent;\n",
              "      border-bottom-color: var(--fill-color);\n",
              "      border-left-color: var(--fill-color);\n",
              "    }\n",
              "    20% {\n",
              "      border-color: transparent;\n",
              "      border-left-color: var(--fill-color);\n",
              "      border-top-color: var(--fill-color);\n",
              "    }\n",
              "    30% {\n",
              "      border-color: transparent;\n",
              "      border-left-color: var(--fill-color);\n",
              "      border-top-color: var(--fill-color);\n",
              "      border-right-color: var(--fill-color);\n",
              "    }\n",
              "    40% {\n",
              "      border-color: transparent;\n",
              "      border-right-color: var(--fill-color);\n",
              "      border-top-color: var(--fill-color);\n",
              "    }\n",
              "    60% {\n",
              "      border-color: transparent;\n",
              "      border-right-color: var(--fill-color);\n",
              "    }\n",
              "    80% {\n",
              "      border-color: transparent;\n",
              "      border-right-color: var(--fill-color);\n",
              "      border-bottom-color: var(--fill-color);\n",
              "    }\n",
              "    90% {\n",
              "      border-color: transparent;\n",
              "      border-bottom-color: var(--fill-color);\n",
              "    }\n",
              "  }\n",
              "</style>\n",
              "\n",
              "  <script>\n",
              "    async function quickchart(key) {\n",
              "      const quickchartButtonEl =\n",
              "        document.querySelector('#' + key + ' button');\n",
              "      quickchartButtonEl.disabled = true;  // To prevent multiple clicks.\n",
              "      quickchartButtonEl.classList.add('colab-df-spinner');\n",
              "      try {\n",
              "        const charts = await google.colab.kernel.invokeFunction(\n",
              "            'suggestCharts', [key], {});\n",
              "      } catch (error) {\n",
              "        console.error('Error during call to suggestCharts:', error);\n",
              "      }\n",
              "      quickchartButtonEl.classList.remove('colab-df-spinner');\n",
              "      quickchartButtonEl.classList.add('colab-df-quickchart-complete');\n",
              "    }\n",
              "    (() => {\n",
              "      let quickchartButtonEl =\n",
              "        document.querySelector('#df-47597eb3-a7a5-45fd-8e1f-10eeff267acc button');\n",
              "      quickchartButtonEl.style.display =\n",
              "        google.colab.kernel.accessAllowed ? 'block' : 'none';\n",
              "    })();\n",
              "  </script>\n",
              "</div>\n",
              "    </div>\n",
              "  </div>\n"
            ],
            "application/vnd.google.colaboratory.intrinsic+json": {
              "type": "dataframe",
              "variable_name": "cars"
            }
          },
          "metadata": {},
          "execution_count": 6
        }
      ]
    },
    {
      "cell_type": "markdown",
      "source": [
        "Рассмотрим более подробно, что из себя представляют столбцы:"
      ],
      "metadata": {
        "id": "sESa2L9Ttmqx"
      }
    },
    {
      "cell_type": "code",
      "source": [
        "cars.info()"
      ],
      "metadata": {
        "colab": {
          "base_uri": "https://localhost:8080/"
        },
        "id": "3DD9cCUqthXe",
        "outputId": "204040ce-00fc-40ff-aa93-fdbf58120744"
      },
      "execution_count": 7,
      "outputs": [
        {
          "output_type": "stream",
          "name": "stdout",
          "text": [
            "<class 'pandas.core.frame.DataFrame'>\n",
            "RangeIndex: 205439 entries, 0 to 205438\n",
            "Data columns (total 17 columns):\n",
            " #   Column                                             Non-Null Count   Dtype  \n",
            "---  ------                                             --------------   -----  \n",
            " 0   VIN (1-10)                                         205439 non-null  object \n",
            " 1   County                                             205436 non-null  object \n",
            " 2   City                                               205436 non-null  object \n",
            " 3   State                                              205439 non-null  object \n",
            " 4   Postal Code                                        205436 non-null  float64\n",
            " 5   Model Year                                         205439 non-null  int64  \n",
            " 6   Make                                               205439 non-null  object \n",
            " 7   Model                                              205438 non-null  object \n",
            " 8   Electric Vehicle Type                              205439 non-null  object \n",
            " 9   Clean Alternative Fuel Vehicle (CAFV) Eligibility  205439 non-null  object \n",
            " 10  Electric Range                                     205431 non-null  float64\n",
            " 11  Base MSRP                                          205431 non-null  float64\n",
            " 12  Legislative District                               204997 non-null  float64\n",
            " 13  DOL Vehicle ID                                     205439 non-null  int64  \n",
            " 14  Vehicle Location                                   205431 non-null  object \n",
            " 15  Electric Utility                                   205436 non-null  object \n",
            " 16  2020 Census Tract                                  205436 non-null  float64\n",
            "dtypes: float64(5), int64(2), object(10)\n",
            "memory usage: 26.6+ MB\n"
          ]
        }
      ]
    },
    {
      "cell_type": "markdown",
      "source": [
        "Теперь есть полная уверенность в том, что датасет валидный. Теперь поэкспериментируем с данными, попытаемся найти какие-то закономерности"
      ],
      "metadata": {
        "id": "Tfv9xQuruX1s"
      }
    },
    {
      "cell_type": "markdown",
      "source": [
        "Давайте посмотрим, в каком году сколько планируется выпускать моделей. Для этого сгруппирируем все модели по годам и по считаем их количество с помощью count():"
      ],
      "metadata": {
        "id": "ft_YwttewccG"
      }
    },
    {
      "cell_type": "code",
      "source": [
        "cars_temp = cars.groupby(by=['Model Year']).count()['VIN (1-10)']\n",
        "cars_temp"
      ],
      "metadata": {
        "colab": {
          "base_uri": "https://localhost:8080/",
          "height": 805
        },
        "id": "fGX8pxHxwD1v",
        "outputId": "8c83c792-0119-42ac-d33d-3c0502034d8f"
      },
      "execution_count": 11,
      "outputs": [
        {
          "output_type": "execute_result",
          "data": {
            "text/plain": [
              "Model Year\n",
              "1997        1\n",
              "1999        4\n",
              "2000        7\n",
              "2002        2\n",
              "2003        1\n",
              "2008       22\n",
              "2010       24\n",
              "2011      707\n",
              "2012     1549\n",
              "2013     4331\n",
              "2014     3507\n",
              "2015     4741\n",
              "2016     5474\n",
              "2017     8662\n",
              "2018    14386\n",
              "2019    10872\n",
              "2020    12241\n",
              "2021    19837\n",
              "2022    28465\n",
              "2023    60161\n",
              "2024    30030\n",
              "2025      415\n",
              "Name: VIN (1-10), dtype: int64"
            ],
            "text/html": [
              "<div>\n",
              "<style scoped>\n",
              "    .dataframe tbody tr th:only-of-type {\n",
              "        vertical-align: middle;\n",
              "    }\n",
              "\n",
              "    .dataframe tbody tr th {\n",
              "        vertical-align: top;\n",
              "    }\n",
              "\n",
              "    .dataframe thead th {\n",
              "        text-align: right;\n",
              "    }\n",
              "</style>\n",
              "<table border=\"1\" class=\"dataframe\">\n",
              "  <thead>\n",
              "    <tr style=\"text-align: right;\">\n",
              "      <th></th>\n",
              "      <th>VIN (1-10)</th>\n",
              "    </tr>\n",
              "    <tr>\n",
              "      <th>Model Year</th>\n",
              "      <th></th>\n",
              "    </tr>\n",
              "  </thead>\n",
              "  <tbody>\n",
              "    <tr>\n",
              "      <th>1997</th>\n",
              "      <td>1</td>\n",
              "    </tr>\n",
              "    <tr>\n",
              "      <th>1999</th>\n",
              "      <td>4</td>\n",
              "    </tr>\n",
              "    <tr>\n",
              "      <th>2000</th>\n",
              "      <td>7</td>\n",
              "    </tr>\n",
              "    <tr>\n",
              "      <th>2002</th>\n",
              "      <td>2</td>\n",
              "    </tr>\n",
              "    <tr>\n",
              "      <th>2003</th>\n",
              "      <td>1</td>\n",
              "    </tr>\n",
              "    <tr>\n",
              "      <th>2008</th>\n",
              "      <td>22</td>\n",
              "    </tr>\n",
              "    <tr>\n",
              "      <th>2010</th>\n",
              "      <td>24</td>\n",
              "    </tr>\n",
              "    <tr>\n",
              "      <th>2011</th>\n",
              "      <td>707</td>\n",
              "    </tr>\n",
              "    <tr>\n",
              "      <th>2012</th>\n",
              "      <td>1549</td>\n",
              "    </tr>\n",
              "    <tr>\n",
              "      <th>2013</th>\n",
              "      <td>4331</td>\n",
              "    </tr>\n",
              "    <tr>\n",
              "      <th>2014</th>\n",
              "      <td>3507</td>\n",
              "    </tr>\n",
              "    <tr>\n",
              "      <th>2015</th>\n",
              "      <td>4741</td>\n",
              "    </tr>\n",
              "    <tr>\n",
              "      <th>2016</th>\n",
              "      <td>5474</td>\n",
              "    </tr>\n",
              "    <tr>\n",
              "      <th>2017</th>\n",
              "      <td>8662</td>\n",
              "    </tr>\n",
              "    <tr>\n",
              "      <th>2018</th>\n",
              "      <td>14386</td>\n",
              "    </tr>\n",
              "    <tr>\n",
              "      <th>2019</th>\n",
              "      <td>10872</td>\n",
              "    </tr>\n",
              "    <tr>\n",
              "      <th>2020</th>\n",
              "      <td>12241</td>\n",
              "    </tr>\n",
              "    <tr>\n",
              "      <th>2021</th>\n",
              "      <td>19837</td>\n",
              "    </tr>\n",
              "    <tr>\n",
              "      <th>2022</th>\n",
              "      <td>28465</td>\n",
              "    </tr>\n",
              "    <tr>\n",
              "      <th>2023</th>\n",
              "      <td>60161</td>\n",
              "    </tr>\n",
              "    <tr>\n",
              "      <th>2024</th>\n",
              "      <td>30030</td>\n",
              "    </tr>\n",
              "    <tr>\n",
              "      <th>2025</th>\n",
              "      <td>415</td>\n",
              "    </tr>\n",
              "  </tbody>\n",
              "</table>\n",
              "</div><br><label><b>dtype:</b> int64</label>"
            ]
          },
          "metadata": {},
          "execution_count": 11
        }
      ]
    },
    {
      "cell_type": "markdown",
      "source": [
        "Видим, что больше всего было запланировано в 2023, а меньше всего в 1997."
      ],
      "metadata": {
        "id": "vSIwsNkfw7hf"
      }
    },
    {
      "cell_type": "markdown",
      "source": [
        "Давайте попробуем сделать функцию, которая на вход принимает год и датасет, а на выход отправляет количество автомобилей, выпущенных в данный год"
      ],
      "metadata": {
        "id": "N_ODQ7slxLq7"
      }
    },
    {
      "cell_type": "code",
      "source": [
        "def num_released_cars(cars, year : int) -> int:\n",
        "    cars_years = cars.groupby(by=['Model Year']).count()['VIN (1-10)']\n",
        "    if year in cars_years:\n",
        "        return cars_years[year]\n",
        "    # если мы ещё находимся здесь, то значит, что такой год ни разу упоминается в датасете, поэтому вывод равен нулю\n",
        "    return 0"
      ],
      "metadata": {
        "id": "38j2Z9KwxUN9"
      },
      "execution_count": 19,
      "outputs": []
    },
    {
      "cell_type": "markdown",
      "source": [
        "Давайте теперь проверим работу функции:"
      ],
      "metadata": {
        "id": "Wt0rJwMay2_D"
      }
    },
    {
      "cell_type": "code",
      "source": [
        "for year in range(1990, 2030):\n",
        "    print('Выпущенных машин в году', year, 'равно', num_released_cars(cars, year))"
      ],
      "metadata": {
        "colab": {
          "base_uri": "https://localhost:8080/"
        },
        "id": "sD-Bi3FTy51p",
        "outputId": "02745f5b-1407-466a-8cb0-10fcd2fdb72a"
      },
      "execution_count": 20,
      "outputs": [
        {
          "output_type": "stream",
          "name": "stdout",
          "text": [
            "Выпущенных машин в году 1990 равно 0\n",
            "Выпущенных машин в году 1991 равно 0\n",
            "Выпущенных машин в году 1992 равно 0\n",
            "Выпущенных машин в году 1993 равно 0\n",
            "Выпущенных машин в году 1994 равно 0\n",
            "Выпущенных машин в году 1995 равно 0\n",
            "Выпущенных машин в году 1996 равно 0\n",
            "Выпущенных машин в году 1997 равно 1\n",
            "Выпущенных машин в году 1998 равно 0\n",
            "Выпущенных машин в году 1999 равно 4\n",
            "Выпущенных машин в году 2000 равно 7\n",
            "Выпущенных машин в году 2001 равно 0\n",
            "Выпущенных машин в году 2002 равно 2\n",
            "Выпущенных машин в году 2003 равно 1\n",
            "Выпущенных машин в году 2004 равно 0\n",
            "Выпущенных машин в году 2005 равно 0\n",
            "Выпущенных машин в году 2006 равно 0\n",
            "Выпущенных машин в году 2007 равно 0\n",
            "Выпущенных машин в году 2008 равно 22\n",
            "Выпущенных машин в году 2009 равно 0\n",
            "Выпущенных машин в году 2010 равно 24\n",
            "Выпущенных машин в году 2011 равно 707\n",
            "Выпущенных машин в году 2012 равно 1549\n",
            "Выпущенных машин в году 2013 равно 4331\n",
            "Выпущенных машин в году 2014 равно 3507\n",
            "Выпущенных машин в году 2015 равно 4741\n",
            "Выпущенных машин в году 2016 равно 5474\n",
            "Выпущенных машин в году 2017 равно 8662\n",
            "Выпущенных машин в году 2018 равно 14386\n",
            "Выпущенных машин в году 2019 равно 10872\n",
            "Выпущенных машин в году 2020 равно 12241\n",
            "Выпущенных машин в году 2021 равно 19837\n",
            "Выпущенных машин в году 2022 равно 28465\n",
            "Выпущенных машин в году 2023 равно 60161\n",
            "Выпущенных машин в году 2024 равно 30030\n",
            "Выпущенных машин в году 2025 равно 415\n",
            "Выпущенных машин в году 2026 равно 0\n",
            "Выпущенных машин в году 2027 равно 0\n",
            "Выпущенных машин в году 2028 равно 0\n",
            "Выпущенных машин в году 2029 равно 0\n"
          ]
        }
      ]
    },
    {
      "cell_type": "markdown",
      "source": [
        "Как видим, всё работает корректно, так как всё можно сравнить с предыдущими результами"
      ],
      "metadata": {
        "id": "3B7shg4pzRRn"
      }
    },
    {
      "cell_type": "markdown",
      "source": [
        "Попробуем найти самые популярные марки автомобилей. Я так понял, что они находятся в колонке Make."
      ],
      "metadata": {
        "id": "_6xHhgoD0iLV"
      }
    },
    {
      "cell_type": "code",
      "source": [
        "cars_temp = cars.groupby(by=['Make']).count()['VIN (1-10)']\n",
        "cars_temp"
      ],
      "metadata": {
        "colab": {
          "base_uri": "https://localhost:8080/",
          "height": 1000
        },
        "id": "57xIkxA_0u9m",
        "outputId": "9fe89c5a-3a96-44e2-a887-4ea8a1125962"
      },
      "execution_count": 21,
      "outputs": [
        {
          "output_type": "execute_result",
          "data": {
            "text/plain": [
              "Make\n",
              "ACURA                      32\n",
              "ALFA ROMEO                 77\n",
              "AUDI                     3918\n",
              "AZURE DYNAMICS              4\n",
              "BENTLEY                     5\n",
              "BMW                      8481\n",
              "CADILLAC                  745\n",
              "CHEVROLET               15114\n",
              "CHRYSLER                 3693\n",
              "DODGE                     665\n",
              "FIAT                      799\n",
              "FISKER                    186\n",
              "FORD                    10840\n",
              "GENESIS                   266\n",
              "GMC                        35\n",
              "HONDA                    1078\n",
              "HYUNDAI                  5782\n",
              "JAGUAR                    243\n",
              "JEEP                     5413\n",
              "KIA                      9104\n",
              "LAND ROVER                 69\n",
              "LEXUS                     754\n",
              "LINCOLN                   299\n",
              "LUCID                     289\n",
              "MAZDA                     711\n",
              "MERCEDES-BENZ            1930\n",
              "MINI                     1015\n",
              "MITSUBISHI               1018\n",
              "NISSAN                  14525\n",
              "POLESTAR                 1162\n",
              "PORSCHE                  1232\n",
              "RAM                         2\n",
              "RIVIAN                   5679\n",
              "ROLLS-ROYCE                 2\n",
              "SMART                     248\n",
              "SUBARU                   1238\n",
              "TESLA                   90318\n",
              "TH!NK                       5\n",
              "TOYOTA                   7945\n",
              "VOLKSWAGEN               5638\n",
              "VOLVO                    4877\n",
              "WHEEGO ELECTRIC CARS        3\n",
              "Name: VIN (1-10), dtype: int64"
            ],
            "text/html": [
              "<div>\n",
              "<style scoped>\n",
              "    .dataframe tbody tr th:only-of-type {\n",
              "        vertical-align: middle;\n",
              "    }\n",
              "\n",
              "    .dataframe tbody tr th {\n",
              "        vertical-align: top;\n",
              "    }\n",
              "\n",
              "    .dataframe thead th {\n",
              "        text-align: right;\n",
              "    }\n",
              "</style>\n",
              "<table border=\"1\" class=\"dataframe\">\n",
              "  <thead>\n",
              "    <tr style=\"text-align: right;\">\n",
              "      <th></th>\n",
              "      <th>VIN (1-10)</th>\n",
              "    </tr>\n",
              "    <tr>\n",
              "      <th>Make</th>\n",
              "      <th></th>\n",
              "    </tr>\n",
              "  </thead>\n",
              "  <tbody>\n",
              "    <tr>\n",
              "      <th>ACURA</th>\n",
              "      <td>32</td>\n",
              "    </tr>\n",
              "    <tr>\n",
              "      <th>ALFA ROMEO</th>\n",
              "      <td>77</td>\n",
              "    </tr>\n",
              "    <tr>\n",
              "      <th>AUDI</th>\n",
              "      <td>3918</td>\n",
              "    </tr>\n",
              "    <tr>\n",
              "      <th>AZURE DYNAMICS</th>\n",
              "      <td>4</td>\n",
              "    </tr>\n",
              "    <tr>\n",
              "      <th>BENTLEY</th>\n",
              "      <td>5</td>\n",
              "    </tr>\n",
              "    <tr>\n",
              "      <th>BMW</th>\n",
              "      <td>8481</td>\n",
              "    </tr>\n",
              "    <tr>\n",
              "      <th>CADILLAC</th>\n",
              "      <td>745</td>\n",
              "    </tr>\n",
              "    <tr>\n",
              "      <th>CHEVROLET</th>\n",
              "      <td>15114</td>\n",
              "    </tr>\n",
              "    <tr>\n",
              "      <th>CHRYSLER</th>\n",
              "      <td>3693</td>\n",
              "    </tr>\n",
              "    <tr>\n",
              "      <th>DODGE</th>\n",
              "      <td>665</td>\n",
              "    </tr>\n",
              "    <tr>\n",
              "      <th>FIAT</th>\n",
              "      <td>799</td>\n",
              "    </tr>\n",
              "    <tr>\n",
              "      <th>FISKER</th>\n",
              "      <td>186</td>\n",
              "    </tr>\n",
              "    <tr>\n",
              "      <th>FORD</th>\n",
              "      <td>10840</td>\n",
              "    </tr>\n",
              "    <tr>\n",
              "      <th>GENESIS</th>\n",
              "      <td>266</td>\n",
              "    </tr>\n",
              "    <tr>\n",
              "      <th>GMC</th>\n",
              "      <td>35</td>\n",
              "    </tr>\n",
              "    <tr>\n",
              "      <th>HONDA</th>\n",
              "      <td>1078</td>\n",
              "    </tr>\n",
              "    <tr>\n",
              "      <th>HYUNDAI</th>\n",
              "      <td>5782</td>\n",
              "    </tr>\n",
              "    <tr>\n",
              "      <th>JAGUAR</th>\n",
              "      <td>243</td>\n",
              "    </tr>\n",
              "    <tr>\n",
              "      <th>JEEP</th>\n",
              "      <td>5413</td>\n",
              "    </tr>\n",
              "    <tr>\n",
              "      <th>KIA</th>\n",
              "      <td>9104</td>\n",
              "    </tr>\n",
              "    <tr>\n",
              "      <th>LAND ROVER</th>\n",
              "      <td>69</td>\n",
              "    </tr>\n",
              "    <tr>\n",
              "      <th>LEXUS</th>\n",
              "      <td>754</td>\n",
              "    </tr>\n",
              "    <tr>\n",
              "      <th>LINCOLN</th>\n",
              "      <td>299</td>\n",
              "    </tr>\n",
              "    <tr>\n",
              "      <th>LUCID</th>\n",
              "      <td>289</td>\n",
              "    </tr>\n",
              "    <tr>\n",
              "      <th>MAZDA</th>\n",
              "      <td>711</td>\n",
              "    </tr>\n",
              "    <tr>\n",
              "      <th>MERCEDES-BENZ</th>\n",
              "      <td>1930</td>\n",
              "    </tr>\n",
              "    <tr>\n",
              "      <th>MINI</th>\n",
              "      <td>1015</td>\n",
              "    </tr>\n",
              "    <tr>\n",
              "      <th>MITSUBISHI</th>\n",
              "      <td>1018</td>\n",
              "    </tr>\n",
              "    <tr>\n",
              "      <th>NISSAN</th>\n",
              "      <td>14525</td>\n",
              "    </tr>\n",
              "    <tr>\n",
              "      <th>POLESTAR</th>\n",
              "      <td>1162</td>\n",
              "    </tr>\n",
              "    <tr>\n",
              "      <th>PORSCHE</th>\n",
              "      <td>1232</td>\n",
              "    </tr>\n",
              "    <tr>\n",
              "      <th>RAM</th>\n",
              "      <td>2</td>\n",
              "    </tr>\n",
              "    <tr>\n",
              "      <th>RIVIAN</th>\n",
              "      <td>5679</td>\n",
              "    </tr>\n",
              "    <tr>\n",
              "      <th>ROLLS-ROYCE</th>\n",
              "      <td>2</td>\n",
              "    </tr>\n",
              "    <tr>\n",
              "      <th>SMART</th>\n",
              "      <td>248</td>\n",
              "    </tr>\n",
              "    <tr>\n",
              "      <th>SUBARU</th>\n",
              "      <td>1238</td>\n",
              "    </tr>\n",
              "    <tr>\n",
              "      <th>TESLA</th>\n",
              "      <td>90318</td>\n",
              "    </tr>\n",
              "    <tr>\n",
              "      <th>TH!NK</th>\n",
              "      <td>5</td>\n",
              "    </tr>\n",
              "    <tr>\n",
              "      <th>TOYOTA</th>\n",
              "      <td>7945</td>\n",
              "    </tr>\n",
              "    <tr>\n",
              "      <th>VOLKSWAGEN</th>\n",
              "      <td>5638</td>\n",
              "    </tr>\n",
              "    <tr>\n",
              "      <th>VOLVO</th>\n",
              "      <td>4877</td>\n",
              "    </tr>\n",
              "    <tr>\n",
              "      <th>WHEEGO ELECTRIC CARS</th>\n",
              "      <td>3</td>\n",
              "    </tr>\n",
              "  </tbody>\n",
              "</table>\n",
              "</div><br><label><b>dtype:</b> int64</label>"
            ]
          },
          "metadata": {},
          "execution_count": 21
        }
      ]
    },
    {
      "cell_type": "markdown",
      "source": [
        "Здесь я сначала решил просто по маркам сгруппировать машины и посмотреть на список"
      ],
      "metadata": {
        "id": "bjNmUWZl03Nm"
      }
    },
    {
      "cell_type": "markdown",
      "source": [
        "Сохраним в отдельную переменную список всех марок машин:"
      ],
      "metadata": {
        "id": "bwuf8ELM1Pju"
      }
    },
    {
      "cell_type": "code",
      "source": [
        "makes_unique = cars['Make'].unique().tolist()\n",
        "makes_unique"
      ],
      "metadata": {
        "colab": {
          "base_uri": "https://localhost:8080/"
        },
        "id": "ZkCYOOy11kfG",
        "outputId": "0bac4401-450d-41ab-a969-5264bf826389"
      },
      "execution_count": 25,
      "outputs": [
        {
          "output_type": "execute_result",
          "data": {
            "text/plain": [
              "['TOYOTA',\n",
              " 'NISSAN',\n",
              " 'TESLA',\n",
              " 'CHEVROLET',\n",
              " 'HYUNDAI',\n",
              " 'RIVIAN',\n",
              " 'FORD',\n",
              " 'KIA',\n",
              " 'AUDI',\n",
              " 'DODGE',\n",
              " 'BMW',\n",
              " 'VOLKSWAGEN',\n",
              " 'MITSUBISHI',\n",
              " 'VOLVO',\n",
              " 'FIAT',\n",
              " 'MAZDA',\n",
              " 'MINI',\n",
              " 'LINCOLN',\n",
              " 'MERCEDES-BENZ',\n",
              " 'PORSCHE',\n",
              " 'JAGUAR',\n",
              " 'LEXUS',\n",
              " 'JEEP',\n",
              " 'CHRYSLER',\n",
              " 'HONDA',\n",
              " 'GENESIS',\n",
              " 'POLESTAR',\n",
              " 'SUBARU',\n",
              " 'CADILLAC',\n",
              " 'SMART',\n",
              " 'FISKER',\n",
              " 'LUCID',\n",
              " 'ACURA',\n",
              " 'GMC',\n",
              " 'ALFA ROMEO',\n",
              " 'LAND ROVER',\n",
              " 'TH!NK',\n",
              " 'BENTLEY',\n",
              " 'AZURE DYNAMICS',\n",
              " 'WHEEGO ELECTRIC CARS',\n",
              " 'ROLLS-ROYCE',\n",
              " 'RAM']"
            ]
          },
          "metadata": {},
          "execution_count": 25
        }
      ]
    },
    {
      "cell_type": "markdown",
      "source": [
        "Создадим функцию, которая по полученному датасету машин будет выдавать самую популярную марку:"
      ],
      "metadata": {
        "id": "KrCRVZAA16UG"
      }
    },
    {
      "cell_type": "code",
      "source": [
        "def most_popular_make_cars(cars):\n",
        "    cars_makes = cars.groupby(by=['Make']).count()['VIN (1-10)']\n",
        "    makes_unique = cars['Make'].unique().tolist()\n",
        "    # Теперь будем искать самую популярную марку, проходясь по всем маркам и меняя лидера по маркам, если такого находим\n",
        "    most_popular_make = \"none\"\n",
        "    most_popular_make_count = 0\n",
        "    for make in makes_unique:\n",
        "        if cars_makes[make] > most_popular_make_count:\n",
        "            most_popular_make = make\n",
        "            most_popular_make_count = cars_makes[make]\n",
        "    # Может выдавать \"none\" только в том случае, если в датасете размеры всех популяций марок равны по нулю, чего, очевидно, не будет\n",
        "    return most_popular_make"
      ],
      "metadata": {
        "id": "4bGnCRNw2GLd"
      },
      "execution_count": 28,
      "outputs": []
    },
    {
      "cell_type": "code",
      "source": [
        "print('Самая популярная марка машины =', most_popular_make_cars(cars))"
      ],
      "metadata": {
        "colab": {
          "base_uri": "https://localhost:8080/"
        },
        "id": "cT06epTq2s9b",
        "outputId": "0f253e17-2de1-4414-d7cf-82216dad7878"
      },
      "execution_count": 30,
      "outputs": [
        {
          "output_type": "stream",
          "name": "stdout",
          "text": [
            "Самая популярная марка машины = TESLA\n"
          ]
        }
      ]
    },
    {
      "cell_type": "markdown",
      "source": [
        "Дейтствительно, пересмотрев все марки вручную, получаем, что TESLA будет самой популярной маркой"
      ],
      "metadata": {
        "id": "GEOib9lV45js"
      }
    },
    {
      "cell_type": "markdown",
      "source": [
        "Теперь попробуем определить самые популярные модели по похожему алгоритму"
      ],
      "metadata": {
        "id": "vXPXWrfj5BkH"
      }
    },
    {
      "cell_type": "code",
      "source": [
        "cars_temp = cars.groupby(by=['Model']).count()['VIN (1-10)']\n",
        "cars_temp"
      ],
      "metadata": {
        "colab": {
          "base_uri": "https://localhost:8080/",
          "height": 489
        },
        "id": "0qhYSEwP5K3k",
        "outputId": "e7ebbc7a-3f78-40cc-edde-c7bfff46d740"
      },
      "execution_count": 31,
      "outputs": [
        {
          "output_type": "execute_result",
          "data": {
            "text/plain": [
              "Model\n",
              "330E     496\n",
              "500      780\n",
              "500E      19\n",
              "530E     431\n",
              "740E      28\n",
              "        ... \n",
              "XC40    1118\n",
              "XC60    1326\n",
              "XC90    1695\n",
              "XM        13\n",
              "ZDX       32\n",
              "Name: VIN (1-10), Length: 152, dtype: int64"
            ],
            "text/html": [
              "<div>\n",
              "<style scoped>\n",
              "    .dataframe tbody tr th:only-of-type {\n",
              "        vertical-align: middle;\n",
              "    }\n",
              "\n",
              "    .dataframe tbody tr th {\n",
              "        vertical-align: top;\n",
              "    }\n",
              "\n",
              "    .dataframe thead th {\n",
              "        text-align: right;\n",
              "    }\n",
              "</style>\n",
              "<table border=\"1\" class=\"dataframe\">\n",
              "  <thead>\n",
              "    <tr style=\"text-align: right;\">\n",
              "      <th></th>\n",
              "      <th>VIN (1-10)</th>\n",
              "    </tr>\n",
              "    <tr>\n",
              "      <th>Model</th>\n",
              "      <th></th>\n",
              "    </tr>\n",
              "  </thead>\n",
              "  <tbody>\n",
              "    <tr>\n",
              "      <th>330E</th>\n",
              "      <td>496</td>\n",
              "    </tr>\n",
              "    <tr>\n",
              "      <th>500</th>\n",
              "      <td>780</td>\n",
              "    </tr>\n",
              "    <tr>\n",
              "      <th>500E</th>\n",
              "      <td>19</td>\n",
              "    </tr>\n",
              "    <tr>\n",
              "      <th>530E</th>\n",
              "      <td>431</td>\n",
              "    </tr>\n",
              "    <tr>\n",
              "      <th>740E</th>\n",
              "      <td>28</td>\n",
              "    </tr>\n",
              "    <tr>\n",
              "      <th>...</th>\n",
              "      <td>...</td>\n",
              "    </tr>\n",
              "    <tr>\n",
              "      <th>XC40</th>\n",
              "      <td>1118</td>\n",
              "    </tr>\n",
              "    <tr>\n",
              "      <th>XC60</th>\n",
              "      <td>1326</td>\n",
              "    </tr>\n",
              "    <tr>\n",
              "      <th>XC90</th>\n",
              "      <td>1695</td>\n",
              "    </tr>\n",
              "    <tr>\n",
              "      <th>XM</th>\n",
              "      <td>13</td>\n",
              "    </tr>\n",
              "    <tr>\n",
              "      <th>ZDX</th>\n",
              "      <td>32</td>\n",
              "    </tr>\n",
              "  </tbody>\n",
              "</table>\n",
              "<p>152 rows × 1 columns</p>\n",
              "</div><br><label><b>dtype:</b> int64</label>"
            ]
          },
          "metadata": {},
          "execution_count": 31
        }
      ]
    },
    {
      "cell_type": "markdown",
      "source": [
        "Сохраним в отдельную переменную список всех моделей машин:"
      ],
      "metadata": {
        "id": "bPHjQIb65dmP"
      }
    },
    {
      "cell_type": "code",
      "source": [
        "models_unique = cars['Model'].unique().tolist()\n",
        "models_unique"
      ],
      "metadata": {
        "colab": {
          "base_uri": "https://localhost:8080/"
        },
        "id": "oemKVF7v5fA2",
        "outputId": "a0a22a4a-db25-48c6-892b-2742d276e6ac"
      },
      "execution_count": 32,
      "outputs": [
        {
          "output_type": "execute_result",
          "data": {
            "text/plain": [
              "['RAV4 PRIME',\n",
              " 'LEAF',\n",
              " 'MODEL 3',\n",
              " 'BOLT EV',\n",
              " 'MODEL Y',\n",
              " 'SANTA FE',\n",
              " 'R1T',\n",
              " 'FOCUS',\n",
              " 'SOUL',\n",
              " 'VOLT',\n",
              " 'A3',\n",
              " 'HORNET',\n",
              " 'MODEL S',\n",
              " 'I3',\n",
              " 'NIRO',\n",
              " 'E-GOLF',\n",
              " 'SPORTAGE',\n",
              " 'X3',\n",
              " 'MODEL X',\n",
              " 'X5',\n",
              " 'PRIUS PRIME',\n",
              " 'EV6',\n",
              " 'OUTLANDER',\n",
              " 'CYBERTRUCK',\n",
              " 'XC40',\n",
              " '500',\n",
              " 'CX-90',\n",
              " 'SORENTO',\n",
              " 'HARDTOP',\n",
              " 'I8',\n",
              " 'FUSION',\n",
              " 'AVIATOR',\n",
              " 'GLE-CLASS',\n",
              " 'XC90',\n",
              " 'TAYCAN',\n",
              " 'BOLT EUV',\n",
              " 'Q4',\n",
              " 'ESCAPE',\n",
              " 'I-PACE',\n",
              " 'C-MAX',\n",
              " 'RX',\n",
              " 'GRAND CHEROKEE',\n",
              " 'WRANGLER',\n",
              " '330E',\n",
              " 'CORSAIR',\n",
              " 'F-150',\n",
              " '530E',\n",
              " 'PACIFICA',\n",
              " 'CLARITY',\n",
              " 'IONIQ 5',\n",
              " 'GV70',\n",
              " 'IX',\n",
              " 'EQE-CLASS SUV',\n",
              " 'KONA',\n",
              " 'EQB-CLASS',\n",
              " 'PS2',\n",
              " 'ID.4',\n",
              " 'SOLTERRA',\n",
              " 'R1S',\n",
              " 'IONIQ 6',\n",
              " 'EQS-CLASS SEDAN',\n",
              " 'B-CLASS',\n",
              " 'SPARK',\n",
              " 'MUSTANG MACH-E',\n",
              " 'PRIUS PLUG-IN',\n",
              " 'IONIQ',\n",
              " 'BZ4X',\n",
              " 'LYRIQ',\n",
              " 'I4',\n",
              " 'EQS-CLASS SUV',\n",
              " 'E-TRON',\n",
              " 'ARIYA',\n",
              " 'XC60',\n",
              " 'TUCSON',\n",
              " 'EQ FORTWO',\n",
              " 'Q5 E',\n",
              " 'KONA ELECTRIC',\n",
              " 'C40',\n",
              " 'EV9',\n",
              " 'PROLOGUE',\n",
              " 'CROSSTREK',\n",
              " 'GV60',\n",
              " 'COUNTRYMAN',\n",
              " 'SOUL EV',\n",
              " 'V60',\n",
              " 'Q8',\n",
              " 'PANAMERA',\n",
              " 'MX-30',\n",
              " 'E-TRON SPORTBACK',\n",
              " 'BLAZER EV',\n",
              " 'EQE-CLASS SEDAN',\n",
              " 'E-TRON GT',\n",
              " 'I5',\n",
              " 'RZ',\n",
              " 'I7',\n",
              " 'S60',\n",
              " 'ROADSTER',\n",
              " 'OCEAN',\n",
              " 'OPTIMA',\n",
              " 'AIR',\n",
              " 'CAYENNE',\n",
              " 'NX',\n",
              " 'EQUINOX EV',\n",
              " 'ZDX',\n",
              " 'GLC-CLASS',\n",
              " 'TRANSIT',\n",
              " 'SONATA',\n",
              " 'Q5',\n",
              " 'I-MIEV',\n",
              " 'ELR',\n",
              " 'SILVERADO EV',\n",
              " 'HUMMER EV PICKUP',\n",
              " 'XM',\n",
              " 'FORTWO ELECTRIC DRIVE',\n",
              " 'C-CLASS',\n",
              " 'TONALE',\n",
              " '745E',\n",
              " 'FORTWO',\n",
              " 'RAV4',\n",
              " 'RANGE ROVER',\n",
              " 'ACCORD',\n",
              " 'SQ8',\n",
              " '740E',\n",
              " 'S-CLASS',\n",
              " 'RS E-TRON GT',\n",
              " 'RANGE ROVER SPORT',\n",
              " 'G80',\n",
              " 'TX',\n",
              " 'RANGER',\n",
              " 'CX-70',\n",
              " 'EDV',\n",
              " 'S90',\n",
              " 'CT6',\n",
              " 'A7 E',\n",
              " '500E',\n",
              " 'EX40',\n",
              " 'IONIQ 5 N',\n",
              " 'KARMA',\n",
              " 'CITY',\n",
              " 'FLYING SPUR',\n",
              " nan,\n",
              " 'TRANSIT CONNECT ELECTRIC',\n",
              " '750E',\n",
              " 'BENTAYGA',\n",
              " '918',\n",
              " 'WHEEGO',\n",
              " 'CR-V',\n",
              " '745LE',\n",
              " 'SPECTRE',\n",
              " 'A8 E',\n",
              " 'S-10 PICKUP',\n",
              " 'ESPRINTER',\n",
              " 'PROMASTER 3500']"
            ]
          },
          "metadata": {},
          "execution_count": 32
        }
      ]
    },
    {
      "cell_type": "markdown",
      "source": [
        "Создадим функцию, которая по полученному датасету машин будет выдавать самую популярную модель:"
      ],
      "metadata": {
        "id": "RNlxO9ti5n29"
      }
    },
    {
      "cell_type": "code",
      "source": [
        "def most_popular_model_cars(cars):\n",
        "    cars_models = cars.groupby(by=['Model']).count()['VIN (1-10)']\n",
        "    models_unique = cars['Model'].unique().tolist()\n",
        "    # Теперь будем искать самую популярную модель, проходясь по всем маркам и меняя лидера по маркам, если такого находим\n",
        "    most_popular_model = \"none\"\n",
        "    most_popular_model_count = 0\n",
        "    for model in models_unique:\n",
        "        # Здесь что-то натыкался на модель nan, поэтому решил игнорировать nan, если встречаю, а то с ним ошибка будет\n",
        "        if pd.isna(model):\n",
        "            continue\n",
        "        if cars_models[model] > most_popular_model_count:\n",
        "            most_popular_model = model\n",
        "            most_popular_model_count = cars_models[model]\n",
        "    # Может выдавать \"none\" только в том случае, если в датасете размеры всех популяций марок равны по нулю, чего, очевидно, не будет\n",
        "    return most_popular_model"
      ],
      "metadata": {
        "id": "OuAjjYmu5neh"
      },
      "execution_count": 50,
      "outputs": []
    },
    {
      "cell_type": "markdown",
      "source": [
        "Проверим, что теперь на этот раз получилось:"
      ],
      "metadata": {
        "id": "XB9zMXFz6HYi"
      }
    },
    {
      "cell_type": "code",
      "source": [
        "print('Самая популярная модель машины =', most_popular_model_cars(cars))"
      ],
      "metadata": {
        "colab": {
          "base_uri": "https://localhost:8080/"
        },
        "id": "HLbYXFdn6J6W",
        "outputId": "6fd4b99a-ec00-4cd9-f213-8fdf44af1eae"
      },
      "execution_count": 51,
      "outputs": [
        {
          "output_type": "stream",
          "name": "stdout",
          "text": [
            "Самая популярная модель машины = MODEL Y\n"
          ]
        }
      ]
    },
    {
      "cell_type": "markdown",
      "source": [
        "Получили самую популярную модель"
      ],
      "metadata": {
        "id": "ZRiM4yFi8VSg"
      }
    },
    {
      "cell_type": "markdown",
      "source": [
        "Попробуем ещё узнать, в каком из каждых годов какой из типов (BEVs или PHEVs) был более популярен. Сначала попробуем просто сгруппировать по типу и годам наш датасет:"
      ],
      "metadata": {
        "id": "MxDdzIIq9_ea"
      }
    },
    {
      "cell_type": "code",
      "source": [
        "cars_temp = cars.groupby(by=['Electric Vehicle Type', 'Model Year']).count()['VIN (1-10)']\n",
        "cars_temp"
      ],
      "metadata": {
        "colab": {
          "base_uri": "https://localhost:8080/",
          "height": 1000
        },
        "id": "OUF5mxY2-G3A",
        "outputId": "2c1b4bb2-112c-45d3-9ec7-1b520746c22c"
      },
      "execution_count": 53,
      "outputs": [
        {
          "output_type": "execute_result",
          "data": {
            "text/plain": [
              "Electric Vehicle Type                   Model Year\n",
              "Battery Electric Vehicle (BEV)          1997              1\n",
              "                                        1999              4\n",
              "                                        2000              7\n",
              "                                        2002              2\n",
              "                                        2003              1\n",
              "                                        2008             22\n",
              "                                        2010             21\n",
              "                                        2011            637\n",
              "                                        2012            709\n",
              "                                        2013           2765\n",
              "                                        2014           1731\n",
              "                                        2015           3462\n",
              "                                        2016           3721\n",
              "                                        2017           4570\n",
              "                                        2018          10006\n",
              "                                        2019           8848\n",
              "                                        2020          10405\n",
              "                                        2021          15771\n",
              "                                        2022          23987\n",
              "                                        2023          52509\n",
              "                                        2024          22197\n",
              "                                        2025            163\n",
              "Plug-in Hybrid Electric Vehicle (PHEV)  2010              3\n",
              "                                        2011             70\n",
              "                                        2012            840\n",
              "                                        2013           1566\n",
              "                                        2014           1776\n",
              "                                        2015           1279\n",
              "                                        2016           1753\n",
              "                                        2017           4092\n",
              "                                        2018           4380\n",
              "                                        2019           2024\n",
              "                                        2020           1836\n",
              "                                        2021           4066\n",
              "                                        2022           4478\n",
              "                                        2023           7652\n",
              "                                        2024           7833\n",
              "                                        2025            252\n",
              "Name: VIN (1-10), dtype: int64"
            ],
            "text/html": [
              "<div>\n",
              "<style scoped>\n",
              "    .dataframe tbody tr th:only-of-type {\n",
              "        vertical-align: middle;\n",
              "    }\n",
              "\n",
              "    .dataframe tbody tr th {\n",
              "        vertical-align: top;\n",
              "    }\n",
              "\n",
              "    .dataframe thead th {\n",
              "        text-align: right;\n",
              "    }\n",
              "</style>\n",
              "<table border=\"1\" class=\"dataframe\">\n",
              "  <thead>\n",
              "    <tr style=\"text-align: right;\">\n",
              "      <th></th>\n",
              "      <th></th>\n",
              "      <th>VIN (1-10)</th>\n",
              "    </tr>\n",
              "    <tr>\n",
              "      <th>Electric Vehicle Type</th>\n",
              "      <th>Model Year</th>\n",
              "      <th></th>\n",
              "    </tr>\n",
              "  </thead>\n",
              "  <tbody>\n",
              "    <tr>\n",
              "      <th rowspan=\"22\" valign=\"top\">Battery Electric Vehicle (BEV)</th>\n",
              "      <th>1997</th>\n",
              "      <td>1</td>\n",
              "    </tr>\n",
              "    <tr>\n",
              "      <th>1999</th>\n",
              "      <td>4</td>\n",
              "    </tr>\n",
              "    <tr>\n",
              "      <th>2000</th>\n",
              "      <td>7</td>\n",
              "    </tr>\n",
              "    <tr>\n",
              "      <th>2002</th>\n",
              "      <td>2</td>\n",
              "    </tr>\n",
              "    <tr>\n",
              "      <th>2003</th>\n",
              "      <td>1</td>\n",
              "    </tr>\n",
              "    <tr>\n",
              "      <th>2008</th>\n",
              "      <td>22</td>\n",
              "    </tr>\n",
              "    <tr>\n",
              "      <th>2010</th>\n",
              "      <td>21</td>\n",
              "    </tr>\n",
              "    <tr>\n",
              "      <th>2011</th>\n",
              "      <td>637</td>\n",
              "    </tr>\n",
              "    <tr>\n",
              "      <th>2012</th>\n",
              "      <td>709</td>\n",
              "    </tr>\n",
              "    <tr>\n",
              "      <th>2013</th>\n",
              "      <td>2765</td>\n",
              "    </tr>\n",
              "    <tr>\n",
              "      <th>2014</th>\n",
              "      <td>1731</td>\n",
              "    </tr>\n",
              "    <tr>\n",
              "      <th>2015</th>\n",
              "      <td>3462</td>\n",
              "    </tr>\n",
              "    <tr>\n",
              "      <th>2016</th>\n",
              "      <td>3721</td>\n",
              "    </tr>\n",
              "    <tr>\n",
              "      <th>2017</th>\n",
              "      <td>4570</td>\n",
              "    </tr>\n",
              "    <tr>\n",
              "      <th>2018</th>\n",
              "      <td>10006</td>\n",
              "    </tr>\n",
              "    <tr>\n",
              "      <th>2019</th>\n",
              "      <td>8848</td>\n",
              "    </tr>\n",
              "    <tr>\n",
              "      <th>2020</th>\n",
              "      <td>10405</td>\n",
              "    </tr>\n",
              "    <tr>\n",
              "      <th>2021</th>\n",
              "      <td>15771</td>\n",
              "    </tr>\n",
              "    <tr>\n",
              "      <th>2022</th>\n",
              "      <td>23987</td>\n",
              "    </tr>\n",
              "    <tr>\n",
              "      <th>2023</th>\n",
              "      <td>52509</td>\n",
              "    </tr>\n",
              "    <tr>\n",
              "      <th>2024</th>\n",
              "      <td>22197</td>\n",
              "    </tr>\n",
              "    <tr>\n",
              "      <th>2025</th>\n",
              "      <td>163</td>\n",
              "    </tr>\n",
              "    <tr>\n",
              "      <th rowspan=\"16\" valign=\"top\">Plug-in Hybrid Electric Vehicle (PHEV)</th>\n",
              "      <th>2010</th>\n",
              "      <td>3</td>\n",
              "    </tr>\n",
              "    <tr>\n",
              "      <th>2011</th>\n",
              "      <td>70</td>\n",
              "    </tr>\n",
              "    <tr>\n",
              "      <th>2012</th>\n",
              "      <td>840</td>\n",
              "    </tr>\n",
              "    <tr>\n",
              "      <th>2013</th>\n",
              "      <td>1566</td>\n",
              "    </tr>\n",
              "    <tr>\n",
              "      <th>2014</th>\n",
              "      <td>1776</td>\n",
              "    </tr>\n",
              "    <tr>\n",
              "      <th>2015</th>\n",
              "      <td>1279</td>\n",
              "    </tr>\n",
              "    <tr>\n",
              "      <th>2016</th>\n",
              "      <td>1753</td>\n",
              "    </tr>\n",
              "    <tr>\n",
              "      <th>2017</th>\n",
              "      <td>4092</td>\n",
              "    </tr>\n",
              "    <tr>\n",
              "      <th>2018</th>\n",
              "      <td>4380</td>\n",
              "    </tr>\n",
              "    <tr>\n",
              "      <th>2019</th>\n",
              "      <td>2024</td>\n",
              "    </tr>\n",
              "    <tr>\n",
              "      <th>2020</th>\n",
              "      <td>1836</td>\n",
              "    </tr>\n",
              "    <tr>\n",
              "      <th>2021</th>\n",
              "      <td>4066</td>\n",
              "    </tr>\n",
              "    <tr>\n",
              "      <th>2022</th>\n",
              "      <td>4478</td>\n",
              "    </tr>\n",
              "    <tr>\n",
              "      <th>2023</th>\n",
              "      <td>7652</td>\n",
              "    </tr>\n",
              "    <tr>\n",
              "      <th>2024</th>\n",
              "      <td>7833</td>\n",
              "    </tr>\n",
              "    <tr>\n",
              "      <th>2025</th>\n",
              "      <td>252</td>\n",
              "    </tr>\n",
              "  </tbody>\n",
              "</table>\n",
              "</div><br><label><b>dtype:</b> int64</label>"
            ]
          },
          "metadata": {},
          "execution_count": 53
        }
      ]
    },
    {
      "cell_type": "markdown",
      "source": [
        "Сохраним названия типов в переменную и посмотрим, что всё правильно:"
      ],
      "metadata": {
        "id": "EUe7nHw6-zN4"
      }
    },
    {
      "cell_type": "code",
      "source": [
        "types_unique = cars['Electric Vehicle Type'].unique().tolist()\n",
        "types_unique"
      ],
      "metadata": {
        "colab": {
          "base_uri": "https://localhost:8080/"
        },
        "id": "RCQOJWw9-5Pa",
        "outputId": "d6ab3f37-8d0e-4c9a-f14c-204cefbc1471"
      },
      "execution_count": 57,
      "outputs": [
        {
          "output_type": "execute_result",
          "data": {
            "text/plain": [
              "['Plug-in Hybrid Electric Vehicle (PHEV)', 'Battery Electric Vehicle (BEV)']"
            ]
          },
          "metadata": {},
          "execution_count": 57
        }
      ]
    },
    {
      "cell_type": "markdown",
      "source": [
        "Попробуем теперь написать функцию, которая по датасету и году определяет, машины какого типа было больше всего"
      ],
      "metadata": {
        "id": "DpH6XlGC_HZ-"
      }
    },
    {
      "cell_type": "code",
      "source": [
        "def most_popular_types_cars(cars, year : int):\n",
        "    cars_types_years = cars.groupby(by=['Electric Vehicle Type', 'Model Year']).count()['VIN (1-10)']\n",
        "    types_unique = cars['Electric Vehicle Type'].unique().tolist()\n",
        "    # Теперь будем пытаться высчитать переменные cars_type_bev и cars_type_phev\n",
        "    cars_type_bev = 0\n",
        "    if year in cars_types_years[types_unique[1]]:\n",
        "        cars_type_bev = cars_types_years[types_unique[1]][year]\n",
        "    cars_type_phev = 0\n",
        "    if year in cars_types_years[types_unique[0]]:\n",
        "        cars_type_phev = cars_types_years[types_unique[0]][year]\n",
        "    # Теперь из полученных переменных выводим результат\n",
        "    if cars_type_bev == cars_type_phev:\n",
        "        return \"Оба типа одной и той же популярности\"\n",
        "    if cars_type_bev > cars_type_phev:\n",
        "        return \"Тип BEV популярнее типа PHEV\"\n",
        "    # Остаётся последний вариант, который уже буду без условного оператора прописывать:\n",
        "    return \"Тип PHEV популярнее типа BEV\""
      ],
      "metadata": {
        "id": "zfdUxvLj_VG1"
      },
      "execution_count": 62,
      "outputs": []
    },
    {
      "cell_type": "code",
      "source": [
        "print(most_popular_types_cars(cars, 2016), )"
      ],
      "metadata": {
        "colab": {
          "base_uri": "https://localhost:8080/"
        },
        "id": "G25Vel8pBFxD",
        "outputId": "4d2dd7f6-2d8b-4cb3-b99e-fddd9e33dafa"
      },
      "execution_count": 63,
      "outputs": [
        {
          "output_type": "stream",
          "name": "stdout",
          "text": [
            "Тип BEV популярнее типа PHEV\n"
          ]
        }
      ]
    },
    {
      "cell_type": "markdown",
      "source": [
        "Теперь пройдёмся по всем годам и посмотрим, в каких годах какой тип был популярен:"
      ],
      "metadata": {
        "id": "jGaDClANBjCz"
      }
    },
    {
      "cell_type": "code",
      "source": [
        "for year in range(1990, 2030):\n",
        "    print(most_popular_types_cars(cars, year), \"в\", year, \"году\")"
      ],
      "metadata": {
        "colab": {
          "base_uri": "https://localhost:8080/"
        },
        "id": "f5xuC5mVBWUH",
        "outputId": "aa54f312-335f-4d71-da39-a056d22f5c20"
      },
      "execution_count": 64,
      "outputs": [
        {
          "output_type": "stream",
          "name": "stdout",
          "text": [
            "Оба типа одной и той же популярности в 1990 году\n",
            "Оба типа одной и той же популярности в 1991 году\n",
            "Оба типа одной и той же популярности в 1992 году\n",
            "Оба типа одной и той же популярности в 1993 году\n",
            "Оба типа одной и той же популярности в 1994 году\n",
            "Оба типа одной и той же популярности в 1995 году\n",
            "Оба типа одной и той же популярности в 1996 году\n",
            "Тип BEV популярнее типа PHEV в 1997 году\n",
            "Оба типа одной и той же популярности в 1998 году\n",
            "Тип BEV популярнее типа PHEV в 1999 году\n",
            "Тип BEV популярнее типа PHEV в 2000 году\n",
            "Оба типа одной и той же популярности в 2001 году\n",
            "Тип BEV популярнее типа PHEV в 2002 году\n",
            "Тип BEV популярнее типа PHEV в 2003 году\n",
            "Оба типа одной и той же популярности в 2004 году\n",
            "Оба типа одной и той же популярности в 2005 году\n",
            "Оба типа одной и той же популярности в 2006 году\n",
            "Оба типа одной и той же популярности в 2007 году\n",
            "Тип BEV популярнее типа PHEV в 2008 году\n",
            "Оба типа одной и той же популярности в 2009 году\n",
            "Тип BEV популярнее типа PHEV в 2010 году\n",
            "Тип BEV популярнее типа PHEV в 2011 году\n",
            "Тип PHEV популярнее типа BEV в 2012 году\n",
            "Тип BEV популярнее типа PHEV в 2013 году\n",
            "Тип PHEV популярнее типа BEV в 2014 году\n",
            "Тип BEV популярнее типа PHEV в 2015 году\n",
            "Тип BEV популярнее типа PHEV в 2016 году\n",
            "Тип BEV популярнее типа PHEV в 2017 году\n",
            "Тип BEV популярнее типа PHEV в 2018 году\n",
            "Тип BEV популярнее типа PHEV в 2019 году\n",
            "Тип BEV популярнее типа PHEV в 2020 году\n",
            "Тип BEV популярнее типа PHEV в 2021 году\n",
            "Тип BEV популярнее типа PHEV в 2022 году\n",
            "Тип BEV популярнее типа PHEV в 2023 году\n",
            "Тип BEV популярнее типа PHEV в 2024 году\n",
            "Тип PHEV популярнее типа BEV в 2025 году\n",
            "Оба типа одной и той же популярности в 2026 году\n",
            "Оба типа одной и той же популярности в 2027 году\n",
            "Оба типа одной и той же популярности в 2028 году\n",
            "Оба типа одной и той же популярности в 2029 году\n"
          ]
        }
      ]
    },
    {
      "cell_type": "markdown",
      "source": [
        "В итоге я сверил с более верхними данными и, действительно, всё сошлось!"
      ],
      "metadata": {
        "id": "uCMCGP36CC8s"
      }
    }
  ]
}